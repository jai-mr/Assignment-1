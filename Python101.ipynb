{
  "nbformat": 4,
  "nbformat_minor": 0,
  "metadata": {
    "colab": {
      "name": "Python101.ipynb",
      "provenance": [],
      "collapsed_sections": []
    },
    "kernelspec": {
      "display_name": "Python 3",
      "language": "python",
      "name": "python3"
    }
  },
  "cells": [
    {
      "cell_type": "markdown",
      "metadata": {
        "colab_type": "text",
        "id": "edGd3iFhvvnc"
      },
      "source": [
        "### Repository github url: https://github.com/jai-mr/\n",
        "\n",
        "Submitted by : JAideep Rangnekar\n",
        "Registered email id : jaideepmr@gmail.com"
      ]
    },
    {
      "cell_type": "markdown",
      "metadata": {
        "colab_type": "text",
        "id": "mnJ8ar0thqYq"
      },
      "source": [
        "# Python 101\n",
        "![alt text](https://encrypted-tbn0.gstatic.com/images?q=tbn%3AANd9GcRZpTmijaNOH6MmycM_eiPKcEl5mVvbwl7a8YKVGpEEMIanDcSt)\n",
        "\n",
        "This is a MUST Python Refresher. You must finish this notebook as a part of overall grading.\n",
        "\n",
        "Majority of this notebook is inspired from: Stanford's Python Refresher which can be found at: https://cs231n.github.io/python-numpy-tutorial/\n",
        "\n",
        "\n",
        "\n",
        "---\n",
        "\n",
        "**We have modified the original notebook and added some questions here. You need to find the solutions and provide answers in your Q1 - Python 101 Quiz.**\n"
      ]
    },
    {
      "cell_type": "markdown",
      "metadata": {
        "colab_type": "text",
        "id": "nq-sNhAjiAxa"
      },
      "source": [
        "# Python\n",
        "Python is a high-level, dynamically typed multiparadigm programming language. Python code is often said to be almost like pseudocode, since it allows you to express very powerful ideas in very few lines of code while being very readable.\n",
        "\n",
        "---\n",
        "\n",
        "## Python Versions\n",
        "\n",
        "There are currently two different supported versions of Python, 2.7 and 3.5. Somewhat confusingly, Python 3.0 introduced many backwards-incompatible changes to the language, so code written for 2.7 may not work under 3.5 and vice versa. For this class all code will use Python 3.5 or higher.\n",
        "\n",
        "You can check your Python version at the command line by running `python --version`\n"
      ]
    },
    {
      "cell_type": "code",
      "metadata": {
        "colab_type": "code",
        "id": "83uo1kNDhaoU",
        "colab": {
          "base_uri": "https://localhost:8080/",
          "height": 34
        },
        "outputId": "52d27927-abb5-420c-8caf-1cbcd531ede2"
      },
      "source": [
        "!python --version"
      ],
      "execution_count": null,
      "outputs": [
        {
          "output_type": "stream",
          "text": [
            "Python 3.6.9\n"
          ],
          "name": "stdout"
        }
      ]
    },
    {
      "cell_type": "markdown",
      "metadata": {
        "colab_type": "text",
        "id": "_6vYrEaCi1Ml"
      },
      "source": [
        "## Basic data types\n",
        "\n",
        "Like most languages, Python has a number of basic types including integers, floats, booleans, and strings. These data types behave in ways that are familiar from other programming languages.\n",
        "\n",
        "**Numbers**: Integers and floats work as you would expect from other languages:"
      ]
    },
    {
      "cell_type": "code",
      "metadata": {
        "colab_type": "code",
        "id": "MTxgJLRchuwK",
        "colab": {
          "base_uri": "https://localhost:8080/",
          "height": 212
        },
        "outputId": "d3b5514c-6214-44df-c177-1ef6b455d603"
      },
      "source": [
        "x = 37 # Initial Value of x\n",
        "print(type(x)) # Prints \"<class 'int'>\"\n",
        "print(x)       # Prints \"37\"\n",
        "print(x + 1)   # Addition; prints \"38\"\n",
        "print(x - 1)   # Subtraction; prints \"36\"\n",
        "print(x * 2)   # Multiplication; prints \"74\"\n",
        "print(x ** 2)  # Exponentiation; prints \"1369\"\n",
        "x += 1\n",
        "print(x)  # Prints \"38\"\n",
        "x *= 2\n",
        "print(x)  # Prints \"76\"\n",
        "y = 2.5\n",
        "print(type(y)) # Prints \"<class 'float'>\"\n",
        "print(y, y + 1, y * 2, y ** 2) # Prints \"2.5 3.5 5.0 6.25\"\n",
        "\n",
        "x = x * y + x + y # Final value of x\n",
        "print(\"Final Value of x is:\", x)"
      ],
      "execution_count": null,
      "outputs": [
        {
          "output_type": "stream",
          "text": [
            "<class 'int'>\n",
            "37\n",
            "38\n",
            "36\n",
            "74\n",
            "1369\n",
            "38\n",
            "76\n",
            "<class 'float'>\n",
            "2.5 3.5 5.0 6.25\n",
            "Final Value of x is: 268.5\n"
          ],
          "name": "stdout"
        }
      ]
    },
    {
      "cell_type": "markdown",
      "metadata": {
        "colab_type": "text",
        "id": "0IIODSSfjaCd"
      },
      "source": [
        "# Quiz Question 1\n",
        "With what integer value shall x be initialized as, such that Final Value of x is 268.5? Please mention the answer in INT value without decimal (e.g. 4, 2, 12, etc.).\n",
        "\n",
        "Please answer this question in the Quiz Section.\n",
        "\n",
        "# Quiz Question 1 Answer : 37.5\n",
        "\n",
        "\n",
        "---\n",
        "\n",
        "**Booleans**\n",
        "\n",
        "Python implements all of the usual operators for Boolean logic, but uses English words rather than symbols (&&, ||, etc.):\n",
        "\n"
      ]
    },
    {
      "cell_type": "code",
      "metadata": {
        "colab_type": "code",
        "id": "71wNg5mgi-th",
        "colab": {
          "base_uri": "https://localhost:8080/",
          "height": 105
        },
        "outputId": "1a3e3780-0443-4cbe-f198-0a5f9d14bbfc"
      },
      "source": [
        "t = True\n",
        "f = False\n",
        "print(type(t)) # Prints \"<class 'bool'>\"\n",
        "print(t and f) # Logical AND; prints \"False\"\n",
        "print(t or f)  # Logical OR; prints \"True\"\n",
        "print(not t)   # Logical NOT; prints \"False\"\n",
        "print(t != f)  # Logical XOR; prints \"True\""
      ],
      "execution_count": null,
      "outputs": [
        {
          "output_type": "stream",
          "text": [
            "<class 'bool'>\n",
            "False\n",
            "True\n",
            "False\n",
            "True\n"
          ],
          "name": "stdout"
        }
      ]
    },
    {
      "cell_type": "markdown",
      "metadata": {
        "colab_type": "text",
        "id": "JM1p20Yml9gI"
      },
      "source": [
        "# Quiz Question 2\n",
        "What is the value of \n",
        "\n",
        "```\n",
        "not ( not t + f * t)\n",
        "```\n",
        "if executed after the code block above?\n",
        "\n"
      ]
    },
    {
      "cell_type": "code",
      "metadata": {
        "colab_type": "code",
        "id": "SqOsCQzDiCJM",
        "colab": {
          "base_uri": "https://localhost:8080/",
          "height": 34
        },
        "outputId": "d38cb595-eb0c-4cc8-b3db-90953d11db38"
      },
      "source": [
        "not ( not t + f * t)"
      ],
      "execution_count": null,
      "outputs": [
        {
          "output_type": "execute_result",
          "data": {
            "text/plain": [
              "True"
            ]
          },
          "metadata": {
            "tags": []
          },
          "execution_count": 5
        }
      ]
    },
    {
      "cell_type": "markdown",
      "metadata": {
        "colab_type": "text",
        "id": "dFHgWoGzjFyf"
      },
      "source": [
        "#Quiz Question 2 Answer : True"
      ]
    },
    {
      "cell_type": "markdown",
      "metadata": {
        "colab_type": "text",
        "id": "eDZGqwnam36m"
      },
      "source": [
        "\n",
        "**Strings**\n",
        "\n",
        "Python has great support for strings:"
      ]
    },
    {
      "cell_type": "code",
      "metadata": {
        "colab_type": "code",
        "id": "RLLlfEVSlg4A",
        "colab": {
          "base_uri": "https://localhost:8080/",
          "height": 105
        },
        "outputId": "76281708-98df-4772-9333-be2a4d2ae274"
      },
      "source": [
        "hello = 'hello'    # String literals can use single quotes\n",
        "world = \"world\"    # or double quotes; it does not matter.\n",
        "print(hello)       # Prints \"hello\"\n",
        "print(len(hello))  # String length; prints \"5\"\n",
        "hw = hello + ' ' + world  # String concatenation\n",
        "print(hw)  # prints \"hello world\"\n",
        "hw6 = '%s %s %d' % (hello, world, 6)  # sprintf style string formatting\n",
        "print(hw6)  # prints \"hello world 6\"\n",
        "\n",
        "location = -1\n",
        "print(hw6[location])"
      ],
      "execution_count": null,
      "outputs": [
        {
          "output_type": "stream",
          "text": [
            "hello\n",
            "5\n",
            "hello world\n",
            "hello world 6\n",
            "6\n"
          ],
          "name": "stdout"
        }
      ]
    },
    {
      "cell_type": "markdown",
      "metadata": {
        "colab_type": "text",
        "id": "bxRbRr7jng8C"
      },
      "source": [
        "# Quiz Question 3\n",
        "\n",
        "What should be the value of \"location\" such that print(hw6[location]) prints 6?"
      ]
    },
    {
      "cell_type": "markdown",
      "metadata": {
        "colab_type": "text",
        "id": "c4cXNr-Qj5Ht"
      },
      "source": [
        "# Quiz Question 3 Answer : location = -1"
      ]
    },
    {
      "cell_type": "markdown",
      "metadata": {
        "colab_type": "text",
        "id": "rwkFgdCSn4th"
      },
      "source": [
        "## Containers\n",
        "\n",
        "Python includes several built-in container types: lists, dictionaries,sets, and tuples.\n",
        "\n",
        "**Lists**\n",
        "A list is the Python equivalent of an array, but is resizeable and can contain elements of different types:\n",
        "\n"
      ]
    },
    {
      "cell_type": "code",
      "metadata": {
        "colab_type": "code",
        "id": "UBa5s5SYnNoT",
        "colab": {
          "base_uri": "https://localhost:8080/",
          "height": 105
        },
        "outputId": "de75ed79-1e6b-4dcb-fd53-03b9b2ec0e06"
      },
      "source": [
        "xs = [3, 1, 2]    # Create a list\n",
        "print(xs, xs[2])  # Prints \"[3, 1, 2] 2\"\n",
        "print(xs[-1])     # Negative indices count from the end of the list; prints \"2\"\n",
        "xs[2] = 'foo'     # Lists can contain elements of different types\n",
        "print(xs)         # Prints \"[3, 1, 'foo']\"\n",
        "xs.append('bar')  # Add a new element to the end of the list\n",
        "print(xs)         # Prints \"[3, 1, 'foo', 'bar']\"\n",
        "x = xs.pop()      # Remove and return the last element of the list\n",
        "print(x, xs)      # Prints \"bar [3, 1, 'foo']\""
      ],
      "execution_count": null,
      "outputs": [
        {
          "output_type": "stream",
          "text": [
            "[3, 1, 2] 2\n",
            "2\n",
            "[3, 1, 'foo']\n",
            "[3, 1, 'foo', 'bar']\n",
            "bar [3, 1, 'foo']\n"
          ],
          "name": "stdout"
        }
      ]
    },
    {
      "cell_type": "code",
      "metadata": {
        "colab_type": "code",
        "id": "uSOQA85xoEU9",
        "colab": {
          "base_uri": "https://localhost:8080/",
          "height": 158
        },
        "outputId": "2c5c09cd-1ab0-46e6-cc4e-681b316a43a0"
      },
      "source": [
        "rng = 9\n",
        "nums = list(range(rng))     # range is a built-in function that creates a list of integers\n",
        "print(nums)               # Prints \"[0, 1, 2, 3, 4, 5, 6, 7, 8]\"\n",
        "print(nums[2:4])          # Get a slice from index 2 to 4 (exclusive); prints \"[2, 3]\"\n",
        "print(nums[2:])           # Get a slice from index 2 to the end; prints \"[2, 3, 4, 5, 6, 7, 8]\"\n",
        "print(nums[:2])           # Get a slice from the start to index 2 (exclusive); prints \"[0, 1]\"\n",
        "print(nums[:])            # Get a slice of the whole list; prints \"[0, 1, 2, 3, 4, 5, 6, 7, 8]\"\n",
        "print(nums[:-1])          # Slice indices can be negative; prints \"[0, 1, 2, 3, 4, 5, 6, 7]\"\n",
        "nums[2:4] = [8, 9]        # Assign a new sublist to a slice\n",
        "print(nums)               # Prints \"[0, 1, 8, 9, 4, 5, 6, 7, 8]\"\n",
        "print(sum(nums))"
      ],
      "execution_count": null,
      "outputs": [
        {
          "output_type": "stream",
          "text": [
            "[0, 1, 2, 3, 4, 5, 6, 7, 8]\n",
            "[2, 3]\n",
            "[2, 3, 4, 5, 6, 7, 8]\n",
            "[0, 1]\n",
            "[0, 1, 2, 3, 4, 5, 6, 7, 8]\n",
            "[0, 1, 2, 3, 4, 5, 6, 7]\n",
            "[0, 1, 8, 9, 4, 5, 6, 7, 8]\n",
            "48\n"
          ],
          "name": "stdout"
        }
      ]
    },
    {
      "cell_type": "markdown",
      "metadata": {
        "colab_type": "text",
        "id": "CEZWL3raol4N"
      },
      "source": [
        "# Quiz Question 4\n",
        "\n",
        "What should be the value of rng, such that print(sum(nums)) prints 48?"
      ]
    },
    {
      "cell_type": "markdown",
      "metadata": {
        "colab_type": "text",
        "id": "80G4i3hAk8o4"
      },
      "source": [
        "# Quiz Question 4 Answer : rng = 9"
      ]
    },
    {
      "cell_type": "markdown",
      "metadata": {
        "colab_type": "text",
        "id": "KZ209w-wpD13"
      },
      "source": [
        "**Loops**\n",
        "\n",
        "You can loop over elements of a list like this:\n"
      ]
    },
    {
      "cell_type": "code",
      "metadata": {
        "colab_type": "code",
        "id": "Zaus1Jfqoej1",
        "colab": {
          "base_uri": "https://localhost:8080/",
          "height": 70
        },
        "outputId": "e773082f-91ea-489c-9129-e8c2f79c74f7"
      },
      "source": [
        "animals = ['cat', 'dog', 'monkey']\n",
        "for animal in animals:\n",
        "    print(animal)"
      ],
      "execution_count": null,
      "outputs": [
        {
          "output_type": "stream",
          "text": [
            "cat\n",
            "dog\n",
            "monkey\n"
          ],
          "name": "stdout"
        }
      ]
    },
    {
      "cell_type": "markdown",
      "metadata": {
        "colab_type": "text",
        "id": "1RaBN3jYpX1f"
      },
      "source": [
        "If you want access to the index of each element within the body of a loop, use the built-in `enumerate` function:"
      ]
    },
    {
      "cell_type": "code",
      "metadata": {
        "colab_type": "code",
        "id": "QmkdTkicpJ9y",
        "colab": {
          "base_uri": "https://localhost:8080/",
          "height": 70
        },
        "outputId": "f37a9540-0e99-4ebb-ded6-0c6cfcdeb0a7"
      },
      "source": [
        "animals = ['cat', 'dog', 'monkey']\n",
        "for idx, animal in enumerate(animals):\n",
        "    print('#%d: %s' % (idx + 1, animal))"
      ],
      "execution_count": null,
      "outputs": [
        {
          "output_type": "stream",
          "text": [
            "#1: cat\n",
            "#2: dog\n",
            "#3: monkey\n"
          ],
          "name": "stdout"
        }
      ]
    },
    {
      "cell_type": "markdown",
      "metadata": {
        "colab_type": "text",
        "id": "xoMtCthyphX6"
      },
      "source": [
        "**List comprehensions**\n",
        "\n",
        "When programming, frequently we want to transform one type of data into another. As a simple example, consider the following code that computes square numbers:"
      ]
    },
    {
      "cell_type": "code",
      "metadata": {
        "colab_type": "code",
        "id": "OQscx7VMpawj",
        "colab": {
          "base_uri": "https://localhost:8080/",
          "height": 34
        },
        "outputId": "f423a83a-a7e7-4724-eba8-3d14f9e79c68"
      },
      "source": [
        "rng2 = 7\n",
        "nums = range(rng2)\n",
        "squares = []\n",
        "for x in nums:\n",
        "    squares.append(x ** 2)\n",
        "print(sum(squares))"
      ],
      "execution_count": null,
      "outputs": [
        {
          "output_type": "stream",
          "text": [
            "91\n"
          ],
          "name": "stdout"
        }
      ]
    },
    {
      "cell_type": "markdown",
      "metadata": {
        "colab_type": "text",
        "id": "51YLXn81p45I"
      },
      "source": [
        "# Quiz Question 5\n",
        "What should be the value of rng2, such that the code block above prints 91?"
      ]
    },
    {
      "cell_type": "markdown",
      "metadata": {
        "colab_type": "text",
        "id": "FIytBwkYlNkN"
      },
      "source": [
        "# Quiz Question 5 Answer : rng2 = 7"
      ]
    },
    {
      "cell_type": "markdown",
      "metadata": {
        "colab_type": "text",
        "id": "yRS97sf2qelf"
      },
      "source": [
        "You can make this code simpler using a **list comprehension**:"
      ]
    },
    {
      "cell_type": "code",
      "metadata": {
        "colab_type": "code",
        "id": "23oZl87VponY",
        "colab": {
          "base_uri": "https://localhost:8080/",
          "height": 34
        },
        "outputId": "2d2299cd-21f4-48b7-c315-3009e99fc024"
      },
      "source": [
        "nums = [0, 1, 2, 3, 4]\n",
        "squares = [x ** 2 for x in nums]\n",
        "print(squares) "
      ],
      "execution_count": null,
      "outputs": [
        {
          "output_type": "stream",
          "text": [
            "[0, 1, 4, 9, 16]\n"
          ],
          "name": "stdout"
        }
      ]
    },
    {
      "cell_type": "markdown",
      "metadata": {
        "colab_type": "text",
        "id": "5OjCcNtXqj8v"
      },
      "source": [
        "List comprehensions can also contain **conditions**:"
      ]
    },
    {
      "cell_type": "code",
      "metadata": {
        "colab_type": "code",
        "id": "9DFWQ0Paqlxb",
        "colab": {
          "base_uri": "https://localhost:8080/",
          "height": 52
        },
        "outputId": "8280731d-88a9-431a-d7c6-07fbf0711bfd"
      },
      "source": [
        "rng3 = 13\n",
        "nums = range(rng3)\n",
        "even_squares = [x ** 2 for x in nums if x % 2 == 0]\n",
        "print(even_squares)\n",
        "print(sum(even_squares))"
      ],
      "execution_count": null,
      "outputs": [
        {
          "output_type": "stream",
          "text": [
            "[0, 4, 16, 36, 64, 100, 144]\n",
            "364\n"
          ],
          "name": "stdout"
        }
      ]
    },
    {
      "cell_type": "code",
      "metadata": {
        "colab_type": "code",
        "id": "rLPuUUFyWmpb",
        "colab": {
          "base_uri": "https://localhost:8080/",
          "height": 52
        },
        "outputId": "b2e77746-993d-42c8-b3d7-42a9cadd8e99"
      },
      "source": [
        "rng3 = 14\n",
        "nums = range(rng3)\n",
        "even_squares = [x ** 2 for x in nums if x % 2 == 0]\n",
        "print(even_squares)\n",
        "print(sum(even_squares))"
      ],
      "execution_count": null,
      "outputs": [
        {
          "output_type": "stream",
          "text": [
            "[0, 4, 16, 36, 64, 100, 144]\n",
            "364\n"
          ],
          "name": "stdout"
        }
      ]
    },
    {
      "cell_type": "markdown",
      "metadata": {
        "colab_type": "text",
        "id": "-9nL0W3Jq9Uo"
      },
      "source": [
        "# Quiz Question 6\n",
        "\n",
        "What is the **sum of the values** to which rng3 can be set such that the output above is 364?"
      ]
    },
    {
      "cell_type": "markdown",
      "metadata": {
        "colab_type": "text",
        "id": "l34hoQsJlco9"
      },
      "source": [
        "# Quiz Question 6 Answer : rng3 = 13 + 14 = 27"
      ]
    },
    {
      "cell_type": "markdown",
      "metadata": {
        "colab_type": "text",
        "id": "rqy0ypQKrnb_"
      },
      "source": [
        "## Dictionaries\n",
        "\n",
        "A dictionary stores (key, value) pairs, similar to a `Map` in Java or an object in Javascript. You can use it like this:"
      ]
    },
    {
      "cell_type": "code",
      "metadata": {
        "colab_type": "code",
        "id": "S-obxQS9quER",
        "colab": {
          "base_uri": "https://localhost:8080/",
          "height": 123
        },
        "outputId": "602e6a6c-23dd-4e47-a7f8-e2afe12ae671"
      },
      "source": [
        "d = {'cat': 'cute', 'dog': 'furry'}  # Create a new dictionary with some data\n",
        "print(d['cat'])       # Get an entry from a dictionary; prints \"cute\"\n",
        "print('cat' in d)     # Check if a dictionary has a given key; prints \"True\"\n",
        "d['fish'] = 'wet'     # Set an entry in a dictionary\n",
        "print(d['fish'])      # Prints \"wet\"\n",
        "# print(d['monkey'])  # KeyError: 'monkey' not a key of d\n",
        "print(d.get('monkey', 'N/A'))  # Get an element with a default; prints \"N/A\"\n",
        "print(d.get('fish', 'N/A'))    # Get an element with a default; prints \"wet\"\n",
        "del d['fish']         # Remove an element from a dictionary\n",
        "print(d.get('fish', 'N/A')) # \"fish\" is no longer a key; prints \"N/A\""
      ],
      "execution_count": null,
      "outputs": [
        {
          "output_type": "stream",
          "text": [
            "cute\n",
            "True\n",
            "wet\n",
            "N/A\n",
            "wet\n",
            "N/A\n"
          ],
          "name": "stdout"
        }
      ]
    },
    {
      "cell_type": "markdown",
      "metadata": {
        "colab_type": "text",
        "id": "ZY6vTNV5rwDZ"
      },
      "source": [
        "**Loops**: It is easy to iterate over the keys in a dictionary:"
      ]
    },
    {
      "cell_type": "code",
      "metadata": {
        "colab_type": "code",
        "id": "MDs1ZBkerx4p",
        "colab": {
          "base_uri": "https://localhost:8080/",
          "height": 70
        },
        "outputId": "75511477-44b0-42ef-d1bc-b9a5e77ea739"
      },
      "source": [
        "d = {'person': 2, 'cat': 4, 'spider': 8}\n",
        "for animal in d:\n",
        "    legs = d[animal]\n",
        "    print('A %s has %d legs' % (animal, legs))"
      ],
      "execution_count": null,
      "outputs": [
        {
          "output_type": "stream",
          "text": [
            "A person has 2 legs\n",
            "A cat has 4 legs\n",
            "A spider has 8 legs\n"
          ],
          "name": "stdout"
        }
      ]
    },
    {
      "cell_type": "markdown",
      "metadata": {
        "colab_type": "text",
        "id": "ssuwj7Slr2_l"
      },
      "source": [
        "If you want access to keys and their corresponding values, use the `items` method:"
      ]
    },
    {
      "cell_type": "code",
      "metadata": {
        "colab_type": "code",
        "id": "H3V3iok8rz1Q",
        "colab": {
          "base_uri": "https://localhost:8080/",
          "height": 70
        },
        "outputId": "f3de01ee-46ba-42c4-861a-03274a0d2e93"
      },
      "source": [
        "d = {'person': 2, 'cat': 4, 'spider': 8}\n",
        "for animal, legs in d.items():\n",
        "    print('A %s has %d legs' % (animal, legs))"
      ],
      "execution_count": null,
      "outputs": [
        {
          "output_type": "stream",
          "text": [
            "A person has 2 legs\n",
            "A cat has 4 legs\n",
            "A spider has 8 legs\n"
          ],
          "name": "stdout"
        }
      ]
    },
    {
      "cell_type": "markdown",
      "metadata": {
        "colab_type": "text",
        "id": "2sLbIbpLsDtC"
      },
      "source": [
        "**Dictionary comprehensions**\n",
        "\n",
        "These are similar to list comprehensions, but allow you to easily construct dictionaries. For example:"
      ]
    },
    {
      "cell_type": "code",
      "metadata": {
        "colab_type": "code",
        "id": "55LbErmbr5uo",
        "colab": {
          "base_uri": "https://localhost:8080/",
          "height": 34
        },
        "outputId": "8947223e-61f3-46c1-8180-390386588ead"
      },
      "source": [
        "nums = [0, 1, 2, 3, 4]\n",
        "even_num_to_square = {x: x ** 2 for x in nums if x % 2 == 0}\n",
        "print(even_num_to_square)"
      ],
      "execution_count": null,
      "outputs": [
        {
          "output_type": "stream",
          "text": [
            "{0: 0, 2: 4, 4: 16}\n"
          ],
          "name": "stdout"
        }
      ]
    },
    {
      "cell_type": "markdown",
      "metadata": {
        "colab_type": "text",
        "id": "mZEdOdr9sOk9"
      },
      "source": [
        "## Sets\n",
        "A set is an unordered collection of distinct elements. As a simple example, consider the following:\n"
      ]
    },
    {
      "cell_type": "code",
      "metadata": {
        "colab_type": "code",
        "id": "kXzFjXrvsH_n",
        "colab": {
          "base_uri": "https://localhost:8080/",
          "height": 123
        },
        "outputId": "a644da27-b73f-4ea2-8b57-2c02f64ef722"
      },
      "source": [
        "animals = {'cat', 'dog'}\n",
        "print('cat' in animals)   # Check if an element is in a set; prints \"True\"\n",
        "print('fish' in animals)  # prints \"False\"\n",
        "animals.add('fish')       # Add an element to a set\n",
        "print('fish' in animals)  # Prints \"True\"\n",
        "print(len(animals))       # Number of elements in a set; prints \"3\"\n",
        "animals.add('cat')        # Adding an element that is already in the set does nothing\n",
        "print(len(animals))       # Prints \"3\"\n",
        "animals.remove('cat')     # Remove an element from a set\n",
        "print(len(animals))       # Prints \"2\""
      ],
      "execution_count": null,
      "outputs": [
        {
          "output_type": "stream",
          "text": [
            "True\n",
            "False\n",
            "True\n",
            "3\n",
            "3\n",
            "2\n"
          ],
          "name": "stdout"
        }
      ]
    },
    {
      "cell_type": "markdown",
      "metadata": {
        "colab_type": "text",
        "id": "dfzd9kD3sVsh"
      },
      "source": [
        "## Functions\n",
        "\n",
        "\n",
        "Python functions are defined using the def keyword. For example:"
      ]
    },
    {
      "cell_type": "code",
      "metadata": {
        "colab_type": "code",
        "id": "IrAFUE-AsR9K",
        "colab": {
          "base_uri": "https://localhost:8080/",
          "height": 70
        },
        "outputId": "470e36b4-bdf7-48c9-da8b-174992fcb29f"
      },
      "source": [
        "def sign(x):\n",
        "    if x > 0:\n",
        "        return 'positive'\n",
        "    elif x < 0:\n",
        "        return 'negative'\n",
        "    else:\n",
        "        return 'zero'\n",
        "\n",
        "for x in [-1, 0, 1]:\n",
        "    print(sign(x))"
      ],
      "execution_count": null,
      "outputs": [
        {
          "output_type": "stream",
          "text": [
            "negative\n",
            "zero\n",
            "positive\n"
          ],
          "name": "stdout"
        }
      ]
    },
    {
      "cell_type": "markdown",
      "metadata": {
        "colab_type": "text",
        "id": "RohxLiO0sd4X"
      },
      "source": [
        "We will often define functions to take optional keyword arguments, like this:"
      ]
    },
    {
      "cell_type": "code",
      "metadata": {
        "colab_type": "code",
        "id": "LnMrX3ONsavI",
        "colab": {
          "base_uri": "https://localhost:8080/",
          "height": 52
        },
        "outputId": "fb951816-4ff4-4cc5-9d4c-8e4726e5a2b9"
      },
      "source": [
        "def hello(name, loud=False):\n",
        "    if loud:\n",
        "        print('HELLO, %s!' % name.upper())\n",
        "    else:\n",
        "        print('Hello, %s' % name)\n",
        "\n",
        "hello('Bob') # Prints \"Hello, Bob\"\n",
        "hello('Fred', loud=True)  # Prints \"HELLO, FRED!\""
      ],
      "execution_count": null,
      "outputs": [
        {
          "output_type": "stream",
          "text": [
            "Hello, Bob\n",
            "HELLO, FRED!\n"
          ],
          "name": "stdout"
        }
      ]
    },
    {
      "cell_type": "markdown",
      "metadata": {
        "colab_type": "text",
        "id": "1LbAt_RSsipu"
      },
      "source": [
        "## Classes\n",
        "\n",
        "The syntax for defining classes in Python is straightforward:\n"
      ]
    },
    {
      "cell_type": "code",
      "metadata": {
        "colab_type": "code",
        "id": "glAkPfN1sfci",
        "colab": {
          "base_uri": "https://localhost:8080/",
          "height": 52
        },
        "outputId": "538ce17f-d9e9-410a-a05d-c0fd64dddc65"
      },
      "source": [
        "class Greeter(object):\n",
        "\n",
        "    # Constructor\n",
        "    def __init__(self, name):\n",
        "        self.name = name  # Create an instance variable\n",
        "\n",
        "    # Instance method\n",
        "    def greet(self, loud=False):\n",
        "        if loud:\n",
        "            print('HELLO, %s!' % self.name.upper())\n",
        "        else:\n",
        "            print('Hello, %s' % self.name)\n",
        "\n",
        "g = Greeter('Fred')  # Construct an instance of the Greeter class\n",
        "g.greet()            # Call an instance method; prints \"Hello, Fred\"\n",
        "g.greet(loud=True)   # Call an instance method; prints \"HELLO, FRED!\""
      ],
      "execution_count": null,
      "outputs": [
        {
          "output_type": "stream",
          "text": [
            "Hello, Fred\n",
            "HELLO, FRED!\n"
          ],
          "name": "stdout"
        }
      ]
    },
    {
      "cell_type": "markdown",
      "metadata": {
        "colab_type": "text",
        "id": "9jXYX9nvsxMV"
      },
      "source": [
        "# Quiz Question 7\n",
        "\n",
        "What does g.greet(loud=False) prints above?\n",
        "\n",
        "# Quiz Question 7 Answer : \n",
        "\n",
        "Hello, Fred"
      ]
    },
    {
      "cell_type": "code",
      "metadata": {
        "colab_type": "code",
        "id": "KGUtsTRmmwGi",
        "colab": {
          "base_uri": "https://localhost:8080/",
          "height": 34
        },
        "outputId": "798f9464-9639-40cb-f6e8-4f69c9ac66ad"
      },
      "source": [
        "g.greet(loud=False) "
      ],
      "execution_count": null,
      "outputs": [
        {
          "output_type": "stream",
          "text": [
            "Hello, Fred\n"
          ],
          "name": "stdout"
        }
      ]
    },
    {
      "cell_type": "markdown",
      "metadata": {
        "colab_type": "text",
        "id": "gRXVgzSFtHfT"
      },
      "source": [
        "# Numpy\n",
        "\n",
        "\n",
        "Numpy is the core library for scientific computing in Python. It provides a high-performance multidimensional array object, and tools for working with these arrays. If you are already familiar with MATLAB, you might find [this tutorial](https://docs.scipy.org/doc/numpy/user/numpy-for-matlab-users.html) useful to get started with Numpy.\n",
        "\n",
        "\n",
        "\n",
        "---\n",
        "\n",
        "\n",
        "Arrays\n",
        "A numpy array is a grid of values, all of the same type, and is indexed by a tuple of nonnegative integers. The number of dimensions is the rank of the array; the shape of an array is a tuple of integers giving the size of the array along each dimension.\n",
        "\n",
        "We can initialize numpy arrays from nested Python lists, and access elements using square brackets:\n"
      ]
    },
    {
      "cell_type": "code",
      "metadata": {
        "colab_type": "code",
        "id": "wUDXZDEfsuiD",
        "colab": {
          "base_uri": "https://localhost:8080/",
          "height": 141
        },
        "outputId": "f0396cbf-4d1d-4498-dba1-a192aff4eb4c"
      },
      "source": [
        "import numpy as np\n",
        "\n",
        "a = np.array([1, 2, 3])   # Create a rank 1 array\n",
        "print(type(a))            # Prints \"<class 'numpy.ndarray'>\"\n",
        "print(a.shape)            # Prints \"(3,)\"\n",
        "print(a[0], a[1], a[2])   # Prints \"1 2 3\"\n",
        "a[0] = 15                 # Change an element of the array\n",
        "print(a)                  # Prints \"[15, 2, 3]\"\n",
        "\n",
        "b = np.array([[1,2,3],[4,5,6]])    # Create a rank 2 array\n",
        "print(b.shape)                     # Prints \"(2, 3)\"\n",
        "print(b[0, 0], b[0, 1], b[1, 0])   # Prints \"1 2 4\"\n",
        "\n",
        "print(sum(sum(a)*sum(b)))"
      ],
      "execution_count": null,
      "outputs": [
        {
          "output_type": "stream",
          "text": [
            "<class 'numpy.ndarray'>\n",
            "(3,)\n",
            "1 2 3\n",
            "[15  2  3]\n",
            "(2, 3)\n",
            "1 2 4\n",
            "420\n"
          ],
          "name": "stdout"
        }
      ]
    },
    {
      "cell_type": "markdown",
      "metadata": {
        "colab_type": "text",
        "id": "hLNB0LKjtsiG"
      },
      "source": [
        "# Quiz Question 8\n",
        "\n",
        "What should a[0] be set equal to such that print(sum(sum(a)*sum(b))) prints 420?\n",
        "\n",
        "\n",
        "\n",
        "\n",
        "---\n",
        "\n",
        "\n",
        "Numpy also provides many functions to create arrays:\n"
      ]
    },
    {
      "cell_type": "markdown",
      "metadata": {
        "colab_type": "text",
        "id": "2KQH2UkknQJS"
      },
      "source": [
        "# Quiz Questin 8 Answer : a[0] = 15 "
      ]
    },
    {
      "cell_type": "code",
      "metadata": {
        "colab_type": "code",
        "id": "uQQ1uhHGtdgd",
        "colab": {
          "base_uri": "https://localhost:8080/",
          "height": 194
        },
        "outputId": "94f6ecd5-2c1b-4428-d1e7-a44ced71a442"
      },
      "source": [
        "import numpy as np\n",
        "\n",
        "a = np.zeros((2,2))   # Create an array of all zeros\n",
        "print(a)              # Prints \"[[ 0.  0.]\n",
        "                      #          [ 0.  0.]]\"\n",
        "\n",
        "b = np.ones((1,2))    # Create an array of all ones\n",
        "print(b)              # Prints \"[[ 1.  1.]]\"\n",
        "\n",
        "c = np.full((2,2), 7)  # Create a constant array\n",
        "print(c)               # Prints \"[[ 7.  7.]\n",
        "                       #          [ 7.  7.]]\"\n",
        "\n",
        "d = np.eye(2)         # Create a 2x2 identity matrix\n",
        "print(d)              # Prints \"[[ 1.  0.]\n",
        "                      #          [ 0.  1.]]\"\n",
        "\n",
        "e = np.random.random((2,2))  # Create an array filled with random values\n",
        "print(e)                     # Might print \"[[ 0.91940167  0.08143941]\n",
        "                             #               [ 0.68744134  0.87236687]]\"\n",
        "print(np.prod(e))"
      ],
      "execution_count": null,
      "outputs": [
        {
          "output_type": "stream",
          "text": [
            "[[0. 0.]\n",
            " [0. 0.]]\n",
            "[[1. 1.]]\n",
            "[[7 7]\n",
            " [7 7]]\n",
            "[[1. 0.]\n",
            " [0. 1.]]\n",
            "[[0.57557103 0.08777865]\n",
            " [0.32115903 0.82655259]]\n",
            "0.013411534776923547\n"
          ],
          "name": "stdout"
        }
      ]
    },
    {
      "cell_type": "markdown",
      "metadata": {
        "colab_type": "text",
        "id": "Y7UF8HPuujzV"
      },
      "source": [
        "# Quiz Question 9\n",
        "\n",
        "Is it guaranteed that print(np.prod(e)) will always be less than 1?"
      ]
    },
    {
      "cell_type": "markdown",
      "metadata": {
        "colab_type": "text",
        "id": "GM0kVNPLnepx"
      },
      "source": [
        "# Quiz Question 9 Answer : Yes\n",
        "Reason : Return random floats in the half-open interval [0.0, 1.0)"
      ]
    },
    {
      "cell_type": "markdown",
      "metadata": {
        "colab_type": "text",
        "id": "8ozSHrmzuzay"
      },
      "source": [
        "## Array indexing\n",
        "\n",
        "Numpy offers several ways to index into arrays.\n",
        "\n",
        "**Slicing**\n",
        "Similar to Python lists, numpy arrays can be sliced. Since arrays may be multidimensional, you must specify a slice for each dimension of the array:"
      ]
    },
    {
      "cell_type": "code",
      "metadata": {
        "colab_type": "code",
        "id": "QypVe8W6t_Y2",
        "colab": {
          "base_uri": "https://localhost:8080/",
          "height": 52
        },
        "outputId": "89b340f5-e1a0-420f-8b9e-e1de42a5c193"
      },
      "source": [
        "import numpy as np\n",
        "\n",
        "# Create the following rank 2 array with shape (3, 4)\n",
        "# [[ 1  2  3  4]\n",
        "#  [ 5  6  7  8]\n",
        "#  [ 9 10 11 12]]\n",
        "a = np.array([[1,2,3,4], [5,6,7,8], [9,10,11,12]])\n",
        "a[0, 0] = 4\n",
        "\n",
        "# Use slicing to pull out the subarray consisting of the first 2 rows\n",
        "# and columns 1 and 2; b is the following array of shape (2, 2):\n",
        "# [[2 3]\n",
        "#  [6 7]]\n",
        "b = a[:2, 1:3]\n",
        "\n",
        "# A slice of an array is a view into the same data, so modifying it\n",
        "# will modify the original array.\n",
        "print(a[0, 1])   # Prints \"2\"\n",
        "b[0, 0] = 77     # b[0, 0] is the same piece of data as a[0, 1]\n",
        "print(a[0, 1])   # Prints \"77\"\n",
        "\n",
        "c = a[:1, 2:4]\n",
        "c[0, 0] = 99"
      ],
      "execution_count": null,
      "outputs": [
        {
          "output_type": "stream",
          "text": [
            "2\n",
            "77\n"
          ],
          "name": "stdout"
        }
      ]
    },
    {
      "cell_type": "markdown",
      "metadata": {
        "colab_type": "text",
        "id": "QEoDyYAmwA0J"
      },
      "source": [
        "# Quiz Question 10\n",
        "At which index of a, 99 values is stored? See quiz for options. "
      ]
    },
    {
      "cell_type": "code",
      "metadata": {
        "colab_type": "code",
        "id": "KTSGRAjQoLie",
        "colab": {
          "base_uri": "https://localhost:8080/",
          "height": 34
        },
        "outputId": "9dd5e305-cb05-4767-cdc4-376a01d323bb"
      },
      "source": [
        "a[0,2]"
      ],
      "execution_count": null,
      "outputs": [
        {
          "output_type": "execute_result",
          "data": {
            "text/plain": [
              "99"
            ]
          },
          "metadata": {
            "tags": []
          },
          "execution_count": 27
        }
      ]
    },
    {
      "cell_type": "markdown",
      "metadata": {
        "colab_type": "text",
        "id": "baQQNvujoOVH"
      },
      "source": [
        "# Quiz Question 10 Answer : a[0,2]"
      ]
    },
    {
      "cell_type": "markdown",
      "metadata": {
        "colab_type": "text",
        "id": "phzn_89Iwk0I"
      },
      "source": [
        "You can also mix integer indexing with slice indexing. However, doing so will yield an array of lower rank than the original array. Note that this is quite different from the way that MATLAB handles array slicing:"
      ]
    },
    {
      "cell_type": "code",
      "metadata": {
        "colab_type": "code",
        "id": "AlkFtgkUvGFz",
        "colab": {
          "base_uri": "https://localhost:8080/",
          "height": 123
        },
        "outputId": "4ea7c79c-b3ee-404a-9382-d30f7352e745"
      },
      "source": [
        "import numpy as np\n",
        "\n",
        "# Create the following rank 2 array with shape (3, 4)\n",
        "# [[ 1  2  3  4]\n",
        "#  [ 5  6  7  8]\n",
        "#  [ 9 10 11 12]]\n",
        "a = np.array([[1,2,3,4], [5,6,7,8], [9,10,11,12]])\n",
        "\n",
        "# Two ways of accessing the data in the middle row of the array.\n",
        "# Mixing integer indexing with slices yields an array of lower rank,\n",
        "# while using only slices yields an array of the same rank as the\n",
        "# original array:\n",
        "row_r1 = a[1, :]    # Rank 1 view of the second row of a\n",
        "row_r2 = a[1:2, :]  # Rank 2 view of the second row of a\n",
        "print(row_r1, row_r1.shape)  # Prints \"[5 6 7 8] (4,)\"\n",
        "print(row_r2, row_r2.shape)  # Prints \"[[5 6 7 8]] (1, 4)\"\n",
        "\n",
        "# We can make the same distinction when accessing columns of an array:\n",
        "col_r1 = a[:, 1]\n",
        "col_r2 = a[:, 1:2]\n",
        "print(col_r1, col_r1.shape)  # Prints \"[ 2  6 10] (3,)\"\n",
        "print(col_r2, col_r2.shape)  # Prints \"[[ 2]\n",
        "                             #          [ 6]\n",
        "                             #          [10]] (3, 1)\""
      ],
      "execution_count": null,
      "outputs": [
        {
          "output_type": "stream",
          "text": [
            "[5 6 7 8] (4,)\n",
            "[[5 6 7 8]] (1, 4)\n",
            "[ 2  6 10] (3,)\n",
            "[[ 2]\n",
            " [ 6]\n",
            " [10]] (3, 1)\n"
          ],
          "name": "stdout"
        }
      ]
    },
    {
      "cell_type": "markdown",
      "metadata": {
        "colab_type": "text",
        "id": "-8ya9ZHlwqK7"
      },
      "source": [
        "Integer array indexing: When you index into numpy arrays using slicing, the resulting array view will always be a subarray of the original array. In contrast, integer array indexing allows you to construct arbitrary arrays using the data from another array. Here is an example:"
      ]
    },
    {
      "cell_type": "code",
      "metadata": {
        "colab_type": "code",
        "id": "Knk1HhLownX8",
        "colab": {
          "base_uri": "https://localhost:8080/",
          "height": 87
        },
        "outputId": "957d2746-2489-4c3d-a5e1-0d47cc028f69"
      },
      "source": [
        "import numpy as np\n",
        "\n",
        "a = np.array([[1,2], [3, 4], [5, 6]])\n",
        "\n",
        "# An example of integer array indexing.\n",
        "# The returned array will have shape (3,) and\n",
        "print(a[[0, 1, 2], [0, 1, 0]])  # Prints \"[1 4 5]\"\n",
        "\n",
        "# The above example of integer array indexing is equivalent to this:\n",
        "print(np.array([a[0, 0], a[1, 1], a[2, 0]]))  # Prints \"[1 4 5]\"\n",
        "\n",
        "# When using integer array indexing, you can reuse the same\n",
        "# element from the source array:\n",
        "print(a[[0, 0], [1, 1]])  # Prints \"[2 2]\"\n",
        "\n",
        "# Equivalent to the previous integer array indexing example\n",
        "print(np.array([a[0, 1], a[0, 1]]))  # Prints \"[2 2]\""
      ],
      "execution_count": null,
      "outputs": [
        {
          "output_type": "stream",
          "text": [
            "[1 4 5]\n",
            "[1 4 5]\n",
            "[2 2]\n",
            "[2 2]\n"
          ],
          "name": "stdout"
        }
      ]
    },
    {
      "cell_type": "markdown",
      "metadata": {
        "colab_type": "text",
        "id": "pPY2c_kBw4tV"
      },
      "source": [
        "## Datatypes\n",
        "\n",
        "Every numpy array is a grid of elements of the same type. Numpy provides a large set of numeric datatypes that you can use to construct arrays. Numpy tries to guess a datatype when you create an array, but functions that construct arrays usually also include an optional argument to explicitly specify the datatype. Here is an example:"
      ]
    },
    {
      "cell_type": "code",
      "metadata": {
        "colab_type": "code",
        "id": "QX4zPCdTwsb6",
        "colab": {
          "base_uri": "https://localhost:8080/",
          "height": 70
        },
        "outputId": "28d5005b-af36-49b4-c1b0-e47bb931674c"
      },
      "source": [
        "import numpy as np\n",
        "\n",
        "x = np.array([1, 2])   # Let numpy choose the datatype\n",
        "print(x.dtype)         # Prints \"int64\"\n",
        "\n",
        "x = np.array([1.0, 2.0])   # Let numpy choose the datatype\n",
        "print(x.dtype)             # Prints \"float64\"\n",
        "\n",
        "x = np.array([1, 2], dtype=np.int64)   # Force a particular datatype\n",
        "print(x.dtype)                         # Prints \"int64\""
      ],
      "execution_count": null,
      "outputs": [
        {
          "output_type": "stream",
          "text": [
            "int64\n",
            "float64\n",
            "int64\n"
          ],
          "name": "stdout"
        }
      ]
    },
    {
      "cell_type": "markdown",
      "metadata": {
        "colab_type": "text",
        "id": "LFa1S7jWw-vK"
      },
      "source": [
        "## Array math\n",
        "\n",
        "Basic mathematical functions operate elementwise on arrays, and are available both as operator overloads and as functions in the numpy module:"
      ]
    },
    {
      "cell_type": "code",
      "metadata": {
        "colab_type": "code",
        "id": "ZgAIP41Tw81b",
        "colab": {
          "base_uri": "https://localhost:8080/",
          "height": 336
        },
        "outputId": "6c7bec97-ed44-4602-a821-799ad2561132"
      },
      "source": [
        "import numpy as np\n",
        "\n",
        "x = np.array([[1,2],[3,4]], dtype=np.float64)\n",
        "y = np.array([[5,6],[7,8]], dtype=np.float64)\n",
        "\n",
        "# Elementwise sum; both produce the array\n",
        "# [[ 6.0  8.0]\n",
        "#  [10.0 12.0]]\n",
        "print(x + y)\n",
        "print(np.add(x, y))\n",
        "\n",
        "# Elementwise difference; both produce the array\n",
        "# [[-4.0 -4.0]\n",
        "#  [-4.0 -4.0]]\n",
        "print(x - y)\n",
        "print(np.subtract(x, y))\n",
        "\n",
        "# Elementwise product; both produce the array\n",
        "# [[ 5.0 12.0]\n",
        "#  [21.0 32.0]]\n",
        "print(x * y)\n",
        "print(np.multiply(x, y))\n",
        "\n",
        "# Elementwise division; both produce the array\n",
        "# [[ 0.2         0.33333333]\n",
        "#  [ 0.42857143  0.5       ]]\n",
        "print(x / y)\n",
        "print(np.divide(x, y))\n",
        "\n",
        "# Elementwise square root; produces the array\n",
        "# [[ 1.          1.41421356]\n",
        "#  [ 1.73205081  2.        ]]\n",
        "print(np.sqrt(x))"
      ],
      "execution_count": null,
      "outputs": [
        {
          "output_type": "stream",
          "text": [
            "[[ 6.  8.]\n",
            " [10. 12.]]\n",
            "[[ 6.  8.]\n",
            " [10. 12.]]\n",
            "[[-4. -4.]\n",
            " [-4. -4.]]\n",
            "[[-4. -4.]\n",
            " [-4. -4.]]\n",
            "[[ 5. 12.]\n",
            " [21. 32.]]\n",
            "[[ 5. 12.]\n",
            " [21. 32.]]\n",
            "[[0.2        0.33333333]\n",
            " [0.42857143 0.5       ]]\n",
            "[[0.2        0.33333333]\n",
            " [0.42857143 0.5       ]]\n",
            "[[1.         1.41421356]\n",
            " [1.73205081 2.        ]]\n"
          ],
          "name": "stdout"
        }
      ]
    },
    {
      "cell_type": "markdown",
      "metadata": {
        "colab_type": "text",
        "id": "7MnEOHMGxOUx"
      },
      "source": [
        "Note that unlike MATLAB, `*` is elementwise multiplication, not matrix multiplication. We instead use the dot function to compute inner products of vectors, to multiply a vector by a matrix, and to multiply matrices. dot is available both as a function in the numpy module and as an instance method of array objects:"
      ]
    },
    {
      "cell_type": "code",
      "metadata": {
        "colab_type": "code",
        "id": "5Hw97GNpxC8f",
        "colab": {
          "base_uri": "https://localhost:8080/",
          "height": 158
        },
        "outputId": "e7d6ec5b-1c36-467e-d40a-4d218b1ce315"
      },
      "source": [
        "import numpy as np\n",
        "\n",
        "x = np.array([[1,2],[3,4]])\n",
        "y = np.array([[5,6],[7,8]])\n",
        "\n",
        "v = np.array([9,10])\n",
        "w = np.array([11, 12])\n",
        "\n",
        "# Inner product of vectors; both produce 219\n",
        "print(v.dot(w))\n",
        "print(np.dot(v, w))\n",
        "\n",
        "# Matrix / vector product; both produce the rank 1 array [29 67]\n",
        "print(x.dot(v))\n",
        "print(np.dot(x, v))\n",
        "\n",
        "# Matrix / matrix product; both produce the rank 2 array\n",
        "# [[19 22]\n",
        "#  [43 50]]\n",
        "print(x.dot(y))\n",
        "print(np.dot(x, y))"
      ],
      "execution_count": null,
      "outputs": [
        {
          "output_type": "stream",
          "text": [
            "219\n",
            "219\n",
            "[29 67]\n",
            "[29 67]\n",
            "[[19 22]\n",
            " [43 50]]\n",
            "[[19 22]\n",
            " [43 50]]\n"
          ],
          "name": "stdout"
        }
      ]
    },
    {
      "cell_type": "markdown",
      "metadata": {
        "colab_type": "text",
        "id": "TqrBwA9yxob5"
      },
      "source": [
        "# Quiz Question 11\n",
        "\n",
        "What is the value of the square-root of sum of the dot product between y and the square-root of x? (answer up to 5 decimal points only, e.g. 0.12345)"
      ]
    },
    {
      "cell_type": "code",
      "metadata": {
        "colab_type": "code",
        "id": "aCtKiLkbofJW",
        "colab": {
          "base_uri": "https://localhost:8080/",
          "height": 34
        },
        "outputId": "f9b8e34a-0032-4f7f-a88c-2674ddbc018c"
      },
      "source": [
        "np.round(np.sqrt(np.sum(np.dot(y,np.sqrt(x)))),5)"
      ],
      "execution_count": null,
      "outputs": [
        {
          "output_type": "execute_result",
          "data": {
            "text/plain": [
              "9.01217"
            ]
          },
          "metadata": {
            "tags": []
          },
          "execution_count": 33
        }
      ]
    },
    {
      "cell_type": "markdown",
      "metadata": {
        "colab_type": "text",
        "id": "m7vL3vGqojjo"
      },
      "source": [
        "# Quiz Question 11 Answer : 9.01217"
      ]
    },
    {
      "cell_type": "markdown",
      "metadata": {
        "colab_type": "text",
        "id": "Ysu6nTdVyk3r"
      },
      "source": [
        "Numpy provides many useful functions for performing computations on arrays; one of the most useful is `sum`:"
      ]
    },
    {
      "cell_type": "code",
      "metadata": {
        "colab_type": "code",
        "id": "TREMQheFxRSD",
        "colab": {
          "base_uri": "https://localhost:8080/",
          "height": 70
        },
        "outputId": "3646493f-9ec8-4575-a642-303769dea4b0"
      },
      "source": [
        "import numpy as np\n",
        "\n",
        "x = np.array([[1,2],[3,4]])\n",
        "\n",
        "print(np.sum(x))  # Compute sum of all elements; prints \"10\"\n",
        "print(np.sum(x, axis=0))  # Compute sum of each column; prints \"[4 6]\"\n",
        "print(np.sum(x, axis=1))  # Compute sum of each row; prints \"[3 7]\""
      ],
      "execution_count": null,
      "outputs": [
        {
          "output_type": "stream",
          "text": [
            "10\n",
            "[4 6]\n",
            "[3 7]\n"
          ],
          "name": "stdout"
        }
      ]
    },
    {
      "cell_type": "markdown",
      "metadata": {
        "colab_type": "text",
        "id": "uahkTbYJzIK1"
      },
      "source": [
        "# Quiz Question 12\n",
        "\n",
        "What is the sum of all the elements of x and square-root of dot-product of sum of each coloumn of x and sum of each row of x? (answer up to 5 decimal points only, e.g. 0.12345)"
      ]
    },
    {
      "cell_type": "code",
      "metadata": {
        "colab_type": "code",
        "id": "jfEP4InHo4U5",
        "colab": {
          "base_uri": "https://localhost:8080/",
          "height": 34
        },
        "outputId": "036fa7d1-7109-4177-bd0c-932f4563413a"
      },
      "source": [
        "# using round\n",
        "print(np.round(np.sum(x) + np.sqrt(np.dot(np.sum(x, axis=0), np.sum(x, axis=1))),5))"
      ],
      "execution_count": null,
      "outputs": [
        {
          "output_type": "stream",
          "text": [
            "17.34847\n"
          ],
          "name": "stdout"
        }
      ]
    },
    {
      "cell_type": "code",
      "metadata": {
        "colab_type": "code",
        "id": "4hidFF4ZzHFp",
        "colab": {
          "base_uri": "https://localhost:8080/",
          "height": 34
        },
        "outputId": "99fbc36b-f1e4-41e6-9068-ba7b102a9ad9"
      },
      "source": [
        "#without round\n",
        "print(np.sum(x) + np.sqrt(np.dot(np.sum(x, axis=0), np.sum(x, axis=1))))"
      ],
      "execution_count": null,
      "outputs": [
        {
          "output_type": "stream",
          "text": [
            "17.348469228349536\n"
          ],
          "name": "stdout"
        }
      ]
    },
    {
      "cell_type": "markdown",
      "metadata": {
        "colab_type": "text",
        "id": "E7P2q-mEpBf2"
      },
      "source": [
        "# Quiz Question 12 Answer : 17.34846 \n",
        "(upto 5 decimal places )"
      ]
    },
    {
      "cell_type": "markdown",
      "metadata": {
        "colab_type": "text",
        "id": "WcrVRbQPzveH"
      },
      "source": [
        "## Broadcasting\n",
        "\n",
        "Broadcasting is a powerful mechanism that allows numpy to work with arrays of different shapes when performing arithmetic operations. Frequently we have a smaller array and a larger array, and we want to use the smaller array multiple times to perform some operation on the larger array.\n",
        "\n",
        "For example, suppose that we want to add a constant vector to each row of a matrix. We could do it like this:"
      ]
    },
    {
      "cell_type": "code",
      "metadata": {
        "colab_type": "code",
        "id": "MtO9pH8qyn9o",
        "colab": {
          "base_uri": "https://localhost:8080/",
          "height": 87
        },
        "outputId": "13cc053f-72d1-427e-8f3e-b73d988d1f06"
      },
      "source": [
        "import numpy as np\n",
        "\n",
        "# We will add the vector v to each row of the matrix x,\n",
        "# storing the result in the matrix y\n",
        "x = np.array([[1,2,3], [4,5,6], [7,8,9], [10, 11, 12]])\n",
        "v = np.array([1, 0, 1])\n",
        "y = np.empty_like(x)   # Create an empty matrix with the same shape as x\n",
        "\n",
        "# Add the vector v to each row of the matrix x with an explicit loop\n",
        "for i in range(4):\n",
        "    y[i, :] = x[i, :] + v\n",
        "\n",
        "# Now y is the following\n",
        "# [[ 2  2  4]\n",
        "#  [ 5  5  7]\n",
        "#  [ 8  8 10]\n",
        "#  [11 11 13]]\n",
        "print(y)"
      ],
      "execution_count": null,
      "outputs": [
        {
          "output_type": "stream",
          "text": [
            "[[ 2  2  4]\n",
            " [ 5  5  7]\n",
            " [ 8  8 10]\n",
            " [11 11 13]]\n"
          ],
          "name": "stdout"
        }
      ]
    },
    {
      "cell_type": "markdown",
      "metadata": {
        "colab_type": "text",
        "id": "IFnoEMTMz-hv"
      },
      "source": [
        "## Image operations\n",
        "\n",
        "PIL is the Python Imaging Library by Fredrik Lundh and Contributors. You should learn PIL as we would be using it a lot along with PyTorch"
      ]
    },
    {
      "cell_type": "code",
      "metadata": {
        "colab_type": "code",
        "id": "egyBkthR0hPg",
        "colab": {
          "base_uri": "https://localhost:8080/",
          "height": 220
        },
        "outputId": "c4d6aed8-2532-407c-9a1e-98cd36a5c9d6"
      },
      "source": [
        "from PIL import Image\n",
        "import requests\n",
        "from io import BytesIO\n",
        "\n",
        "response = requests.get('https://encrypted-tbn0.gstatic.com/images?q=tbn%3AANd9GcRZpTmijaNOH6MmycM_eiPKcEl5mVvbwl7a8YKVGpEEMIanDcSt')\n",
        "img = Image.open(BytesIO(response.content))\n",
        "display(img)"
      ],
      "execution_count": null,
      "outputs": [
        {
          "output_type": "display_data",
          "data": {
            "image/png": "[encoded data removed]",
            "text/plain": [
              "<PIL.PngImagePlugin.PngImageFile image mode=P size=601x203 at 0x7FA0499367B8>"
            ]
          },
          "metadata": {
            "tags": []
          }
        }
      ]
    },
    {
      "cell_type": "markdown",
      "metadata": {
        "colab_type": "text",
        "id": "uPvz1COw02YV"
      },
      "source": [
        "Copying a subrectangle from an image:"
      ]
    },
    {
      "cell_type": "code",
      "metadata": {
        "colab_type": "code",
        "id": "ZW3VI_Sw0mJl",
        "colab": {
          "base_uri": "https://localhost:8080/",
          "height": 216
        },
        "outputId": "5aa14dd4-e62d-4ef9-d08f-25a7d451f443"
      },
      "source": [
        "box1 = (150, 150, 300, 300)\n",
        "box2 = (200, 100, 250, 200)\n",
        "box3 = (100, 0, 200, 200)\n",
        "box4 = (100, 400, 200, 200)\n",
        "box5 = (0, 0, 100, 100)\n",
        "box6 = (200, 0, 200, 200)\n",
        "box7 = (0, 0, 200, 200)\n",
        "box8 = (100, 100, 200, 200)\n",
        "box9 = (100, 250, 400, 300)\n",
        "region = img.crop(box7)\n",
        "display(region)"
      ],
      "execution_count": null,
      "outputs": [
        {
          "output_type": "display_data",
          "data": {
            "image/png": "[encoded data removed]",
            "text/plain": [
              "<PIL.Image.Image image mode=P size=200x200 at 0x7FA048825080>"
            ]
          },
          "metadata": {
            "tags": []
          }
        }
      ]
    },
    {
      "cell_type": "markdown",
      "metadata": {
        "colab_type": "text",
        "id": "MA2lphrQcWvW"
      },
      "source": [
        "# Quiz Question 13\n",
        "\n",
        "Which box value shall be used in img.crop such that the colorful Python Logo is completely visible?"
      ]
    },
    {
      "cell_type": "markdown",
      "metadata": {
        "colab_type": "text",
        "id": "rhPP-R18po7I"
      },
      "source": [
        "# Quiz Question 13 Answer : box7"
      ]
    },
    {
      "cell_type": "markdown",
      "metadata": {
        "colab_type": "text",
        "id": "38xNwb1td0u3"
      },
      "source": [
        "## Playing with images\n"
      ]
    },
    {
      "cell_type": "code",
      "metadata": {
        "colab_type": "code",
        "id": "nzDtSnzu069u",
        "colab": {
          "base_uri": "https://localhost:8080/",
          "height": 423
        },
        "outputId": "f4a49ec4-b69b-4284-deff-fec00836c5d6"
      },
      "source": [
        "from PIL import Image\n",
        "\n",
        "#Let's first convert our png (4 channel, R, G, B , Alpha) image into jpg (3 channel, R, G, B) image.\n",
        "img_jpg = Image.new(\"RGB\", img.size, (255, 255, 255))\n",
        "img_jpg.paste(img)\n",
        "# display jpg image\n",
        "display(img_jpg)\n",
        "\n",
        "#convert our image into numpy array\n",
        "npimg = np.array(img_jpg)\n",
        "\n",
        "#convert numpy image back to PIL image and display it\n",
        "npimg = Image.fromarray(npimg)\n",
        "display(npimg)"
      ],
      "execution_count": null,
      "outputs": [
        {
          "output_type": "display_data",
          "data": {
            "image/png": "[encoded data removed]",
            "text/plain": [
              "<PIL.Image.Image image mode=RGB size=601x203 at 0x7FA0488199E8>"
            ]
          },
          "metadata": {
            "tags": []
          }
        },
        {
          "output_type": "display_data",
          "data": {
            "image/png": "[encoded data removed]",
            "text/plain": [
              "<PIL.Image.Image image mode=RGB size=601x203 at 0x7FA048819A20>"
            ]
          },
          "metadata": {
            "tags": []
          }
        }
      ]
    },
    {
      "cell_type": "code",
      "metadata": {
        "colab_type": "code",
        "id": "vGGLY19mgk3F",
        "colab": {
          "base_uri": "https://localhost:8080/",
          "height": 255
        },
        "outputId": "975b9a81-50c5-48e4-f017-e2f70a80c5ff"
      },
      "source": [
        "npimg = np.array(img_jpg)\n",
        "print(img_jpg.size)\n",
        "print(npimg.shape)\n",
        "# Operation 1: \n",
        "# npimg[0:0, 100:100] = 255\n",
        "# Operation 2: \n",
        "# npimg[50:200, 50:200] = 255\n",
        "# Operation 3: \n",
        "# npimg[100:150, 0:100] = 255\n",
        "# Operation 4: \n",
        "npimg[0:150, 50:200] = 255\n",
        "\n",
        "npimg = Image.fromarray(npimg)\n",
        "display(npimg)"
      ],
      "execution_count": null,
      "outputs": [
        {
          "output_type": "stream",
          "text": [
            "(601, 203)\n",
            "(203, 601, 3)\n"
          ],
          "name": "stdout"
        },
        {
          "output_type": "display_data",
          "data": {
            "image/png": "[encoded data removed]",
            "text/plain": [
              "<PIL.Image.Image image mode=RGB size=601x203 at 0x7FA048819748>"
            ]
          },
          "metadata": {
            "tags": []
          }
        }
      ]
    },
    {
      "cell_type": "markdown",
      "metadata": {
        "colab_type": "text",
        "id": "xs3pNYEcjvh4"
      },
      "source": [
        "# Quiz Question 14\n",
        "Which Operation will hide the Colorful Python logo completely?\n",
        "\n",
        "# Quiz Question 14 Answer : Operation 4\n",
        "\n",
        "# Quiz Question 15\n",
        "Numpy Axies are (y, x), where as PIL axies are (x, y). True or False?\n",
        "\n",
        "# Quiz Question 15 Answer : True"
      ]
    },
    {
      "cell_type": "markdown",
      "metadata": {
        "colab_type": "text",
        "id": "N5Bl4tULmA-f"
      },
      "source": [
        "## Gradients\n",
        "Notice how cleanly we calculated (x or y? you can find out if your 15th answer was correct) gradient!"
      ]
    },
    {
      "cell_type": "code",
      "metadata": {
        "colab_type": "code",
        "id": "dnfMUmOYdBQP",
        "colab": {
          "base_uri": "https://localhost:8080/",
          "height": 218
        },
        "outputId": "be2ec878-d215-44f3-f220-9fc78b2848e0"
      },
      "source": [
        "npimg = np.array(img_jpg)\n",
        "# Gradient Operation\n",
        "newimg = npimg[:-1, :] - npimg[1:, :]\n",
        "npimg = Image.fromarray(newimg)\n",
        "display(npimg)"
      ],
      "execution_count": null,
      "outputs": [
        {
          "output_type": "display_data",
          "data": {
            "image/png": "[encoded data removed]",
            "text/plain": [
              "<PIL.Image.Image image mode=RGB size=601x202 at 0x7FA048819898>"
            ]
          },
          "metadata": {
            "tags": []
          }
        }
      ]
    },
    {
      "cell_type": "markdown",
      "metadata": {
        "colab_type": "text",
        "id": "e6aALYGYld2d"
      },
      "source": [
        "# Quiz Question 16\n",
        "\n",
        "From the options available below, which operation will give us \"other\" gradient? (Other means if we got x-gradient above then y-gradients and vice-verse)\n",
        "\n",
        "1. newimg = npimg[:-1, :] - npimg[1:, :]\n",
        "2. newimg = npimg[:, 1:] - npimg[1:, :]\n",
        "3. newimg = npimg[:-1, :] - npimg[:, 1:]\n",
        "4. newimg = npimg[:, :-1] - npimg[:, 1:]\n",
        "\n"
      ]
    },
    {
      "cell_type": "code",
      "metadata": {
        "colab_type": "code",
        "id": "HZJjNew7qsyP",
        "colab": {
          "base_uri": "https://localhost:8080/",
          "height": 220
        },
        "outputId": "56876ebf-7614-4bf8-fe1c-8a93d5073ef2"
      },
      "source": [
        "npimg = np.array(img_jpg)\n",
        "# Gradient Operation\n",
        "newimg = npimg[:, :-1] - npimg[:, 1:]\n",
        "npimg = Image.fromarray(newimg)\n",
        "display(npimg)"
      ],
      "execution_count": null,
      "outputs": [
        {
          "output_type": "display_data",
          "data": {
            "image/png": "[encoded data removed]",
            "text/plain": [
              "<PIL.Image.Image image mode=RGB size=600x203 at 0x7FA048819A20>"
            ]
          },
          "metadata": {
            "tags": []
          }
        }
      ]
    },
    {
      "cell_type": "markdown",
      "metadata": {
        "colab_type": "text",
        "id": "DYyMHtJprPVy"
      },
      "source": [
        "# Quiz Question 16 Answer : 4. newimg = npimg[:, :-1] - npimg[:, 1:]"
      ]
    },
    {
      "cell_type": "markdown",
      "metadata": {
        "colab_type": "text",
        "id": "Wvq1z8Rqnqds"
      },
      "source": [
        "What you have done above is one of the very important operation as you will see in future. This is used in Loss function as well.\n",
        "\n",
        "## Convolution\n",
        "\n",
        "We are going to use filter2D function which is built into OpenCV to perform Convolution.\n"
      ]
    },
    {
      "cell_type": "code",
      "metadata": {
        "colab_type": "code",
        "id": "xDXsqPRXk5-y",
        "colab": {}
      },
      "source": [
        "# import the necessary packages\n",
        "import numpy as np\n",
        "from urllib.request import urlopen\n",
        "import cv2\n",
        "from matplotlib import pyplot as plt\n",
        "\n",
        "# METHOD #1: OpenCV, NumPy, and urllib\n",
        "def url_to_image(url):\n",
        "\t# download the image, convert it to a NumPy array, and then read\n",
        "\t# it into OpenCV format\n",
        "\tresp = urlopen(url)\n",
        "\timage = np.asarray(bytearray(resp.read()), dtype=\"uint8\")\n",
        "\timage = cv2.imdecode(image, cv2.IMREAD_COLOR)\n",
        " \n",
        "\t# return the image\n",
        "\treturn image"
      ],
      "execution_count": null,
      "outputs": []
    },
    {
      "cell_type": "code",
      "metadata": {
        "colab_type": "code",
        "id": "Vdg5KfQXohjP",
        "colab": {
          "base_uri": "https://localhost:8080/",
          "height": 188
        },
        "outputId": "d10c33a2-188e-4d1c-bde4-1d51f740afb2"
      },
      "source": [
        "image = url_to_image(\"data:image/jpeg;base64,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\")\n",
        "from google.colab.patches import cv2_imshow\n",
        "cv2_imshow(image)"
      ],
      "execution_count": null,
      "outputs": [
        {
          "output_type": "display_data",
          "data": {
            "image/png": "[encoded data removed]",
            "text/plain": [
              "<PIL.Image.Image image mode=RGB size=295x171 at 0x7F8E52F01E10>"
            ]
          },
          "metadata": {
            "tags": []
          }
        }
      ]
    },
    {
      "cell_type": "markdown",
      "metadata": {
        "colab_type": "text",
        "id": "vJMKdEkUrlyF"
      },
      "source": [
        "# Canny Edge Detection"
      ]
    },
    {
      "cell_type": "code",
      "metadata": {
        "colab_type": "code",
        "id": "-XSF96c0o1MS",
        "colab": {
          "base_uri": "https://localhost:8080/",
          "height": 188
        },
        "outputId": "3aa00473-d9c0-4ba2-8361-d58d9c619787"
      },
      "source": [
        "edges = cv2.Canny(image,100,200)\n",
        "cv2_imshow(edges)"
      ],
      "execution_count": null,
      "outputs": [
        {
          "output_type": "display_data",
          "data": {
            "image/png": "[encoded data removed]",
            "text/plain": [
              "<PIL.Image.Image image mode=L size=295x171 at 0x7F8E52976978>"
            ]
          },
          "metadata": {
            "tags": []
          }
        }
      ]
    },
    {
      "cell_type": "markdown",
      "metadata": {
        "colab_type": "text",
        "id": "3m0m7w1Dru_d"
      },
      "source": [
        "## Convolution\n",
        "\n",
        "As mentioned above we'll use OpenCV's inbuilt function `filter2D` to perform our convolution operation. We are defining a vertical Edge detector below to perform our convolution. "
      ]
    },
    {
      "cell_type": "code",
      "metadata": {
        "colab_type": "code",
        "id": "XZejR_S7rqYf",
        "colab": {
          "base_uri": "https://localhost:8080/",
          "height": 188
        },
        "outputId": "0712e2be-2a65-46ca-802e-44dcfa14a321"
      },
      "source": [
        "kernel = np.float32([[-1,0,1],[-1,0,1],[-1,0,1]])\n",
        "\n",
        "dst = cv2.filter2D(image,-1,kernel)\n",
        "cv2_imshow(dst)"
      ],
      "execution_count": null,
      "outputs": [
        {
          "output_type": "display_data",
          "data": {
            "image/png": "[encoded data removed]",
            "text/plain": [
              "<PIL.Image.Image image mode=RGB size=295x171 at 0x7F8E52976EB8>"
            ]
          },
          "metadata": {
            "tags": []
          }
        }
      ]
    },
    {
      "cell_type": "markdown",
      "metadata": {
        "colab_type": "text",
        "id": "3nJIICgqr9kp"
      },
      "source": [
        "# Quiz Question 17\n",
        "Which kernel among these options will give us horizontal edge? \n",
        "\n",
        "1. kernel = np.float32([[-1, -1, -1],[0,0,0],[1,1,1]])\n",
        "2. kernel = np.float32([[-1, -2, -1],[0,0,0],[1,2,1]])\n",
        "3. kernel = np.float32([[-4, -1, -4],[0,0,0],[4,1,4]])\n",
        "4. kernel = np.float32([[-4, -4, -4],[0,0,0],[4,4,4]])"
      ]
    },
    {
      "cell_type": "code",
      "metadata": {
        "colab_type": "code",
        "id": "ZmRhLu2YX6h1",
        "colab": {
          "base_uri": "https://localhost:8080/",
          "height": 188
        },
        "outputId": "2a48bcdc-a51f-4233-8d1e-e3f2945f6434"
      },
      "source": [
        "kernel = np.float32([[-1, -1, -1],[0,0,0],[1,1,1]])\n",
        "dst = cv2.filter2D(image,-1,kernel)\n",
        "cv2_imshow(dst)"
      ],
      "execution_count": null,
      "outputs": [
        {
          "output_type": "display_data",
          "data": {
            "image/png": "[encoded data removed]",
            "text/plain": [
              "<PIL.Image.Image image mode=RGB size=295x171 at 0x7F8E52976F60>"
            ]
          },
          "metadata": {
            "tags": []
          }
        }
      ]
    },
    {
      "cell_type": "code",
      "metadata": {
        "colab_type": "code",
        "id": "yuzrXyalX9Z9",
        "colab": {
          "base_uri": "https://localhost:8080/",
          "height": 188
        },
        "outputId": "ee41b89a-bd87-4a92-9318-8b0825322d2c"
      },
      "source": [
        "kernel = np.float32([[-1, -2, -1],[0,0,0],[1,2,1]])\n",
        "dst = cv2.filter2D(image,-1,kernel)\n",
        "cv2_imshow(dst)"
      ],
      "execution_count": null,
      "outputs": [
        {
          "output_type": "display_data",
          "data": {
            "image/png": "[encoded data removed]",
            "text/plain": [
              "<PIL.Image.Image image mode=RGB size=295x171 at 0x7F8E52976F98>"
            ]
          },
          "metadata": {
            "tags": []
          }
        }
      ]
    },
    {
      "cell_type": "code",
      "metadata": {
        "colab_type": "code",
        "id": "cBAxDol0X9lL",
        "colab": {
          "base_uri": "https://localhost:8080/",
          "height": 188
        },
        "outputId": "8957fc02-1b09-4ff6-b3db-db8b816f006e"
      },
      "source": [
        "kernel = np.float32([[-4, -1, -4],[0,0,0],[4,1,4]])\n",
        "dst = cv2.filter2D(image,-1,kernel)\n",
        "cv2_imshow(dst)"
      ],
      "execution_count": null,
      "outputs": [
        {
          "output_type": "display_data",
          "data": {
            "image/png": "[encoded data removed]",
            "text/plain": [
              "<PIL.Image.Image image mode=RGB size=295x171 at 0x7F8E52976FD0>"
            ]
          },
          "metadata": {
            "tags": []
          }
        }
      ]
    },
    {
      "cell_type": "code",
      "metadata": {
        "colab_type": "code",
        "id": "5WEdG22LX9vo",
        "colab": {
          "base_uri": "https://localhost:8080/",
          "height": 188
        },
        "outputId": "8288587a-dd43-438a-97a5-d2145e54170c"
      },
      "source": [
        "kernel = np.float32([[-4, -4, -4],[0,0,0],[4,4,4]])\n",
        "dst = cv2.filter2D(image,-1,kernel)\n",
        "cv2_imshow(dst)"
      ],
      "execution_count": null,
      "outputs": [
        {
          "output_type": "display_data",
          "data": {
            "image/png": "[encoded data removed]",
            "text/plain": [
              "<PIL.Image.Image image mode=RGB size=295x171 at 0x7F8E52976EF0>"
            ]
          },
          "metadata": {
            "tags": []
          }
        }
      ]
    },
    {
      "cell_type": "markdown",
      "metadata": {
        "colab_type": "text",
        "id": "HwLWu2zbsTAp"
      },
      "source": [
        "# Quiz Question 17 Answer :\n",
        "\n",
        "1. kernel = np.float32([[-1, -1, -1],[0,0,0],[1,1,1]])\n",
        "2. kernel = np.float32([[-1, -2, -1],[0,0,0],[1,2,1]])\n",
        "3. kernel = np.float32([[-4, -1, -4],[0,0,0],[4,1,4]])\n",
        "4. kernel = np.float32([[-4, -4, -4],[0,0,0],[4,4,4]])\n",
        "\n",
        "All options are correct"
      ]
    },
    {
      "cell_type": "markdown",
      "metadata": {
        "colab_type": "text",
        "id": "hBj3L7a5wi-1"
      },
      "source": [
        "# Quiz Question 18\n",
        "\n",
        "What would this kernel do?\n",
        "\n",
        "*   kernel = 1/9*np.float32([[1,1,1],[1,1,1],[1,1,1]])\n",
        "\n",
        "\n",
        "\n"
      ]
    },
    {
      "cell_type": "markdown",
      "metadata": {
        "colab_type": "text",
        "id": "gQq002i5uZbP"
      },
      "source": [
        "# Quiz Question 18 Answer:\n",
        "A box blur (also known as a box linear filter) is a spatial domain linear filter in which each pixel in the resulting image has a value equal to the average value of its neighboring pixels in the input image. It is a form of low-pass (\"blurring\") filter. With the above kernel the image is blurred"
      ]
    },
    {
      "cell_type": "markdown",
      "metadata": {
        "colab_type": "text",
        "id": "ac9S7sDaxBXD"
      },
      "source": [
        "# Quiz Question 19\n",
        "\n",
        "What would this kernel do?\n",
        "\n",
        "*   kernal = np.float32([[0,0,0],[0,1,0],[0,0,0]])"
      ]
    },
    {
      "cell_type": "markdown",
      "metadata": {
        "colab_type": "text",
        "id": "AheKS5Q2tspF"
      },
      "source": [
        "# Quiz Question 19 Answer : \n",
        "Identity Kernel , when applied to an image through convolution, will have no effect on the resulting image. Every pixel will retain its original value"
      ]
    },
    {
      "cell_type": "markdown",
      "metadata": {
        "colab_type": "text",
        "id": "cGS5GSwst_Bx"
      },
      "source": [
        "# RGB to Grayscale Conversion\n",
        "There are many ways to convert RGB to Grayscale, below is just one of them (averaging the colors) which we are trying but is wrong. "
      ]
    },
    {
      "cell_type": "code",
      "metadata": {
        "colab_type": "code",
        "id": "ccHf9t0rsdEg",
        "colab": {
          "base_uri": "https://localhost:8080/",
          "height": 237
        },
        "outputId": "a1be9dbd-0782-4fef-a118-db142106ef40"
      },
      "source": [
        "npimg = np.array(img_jpg)\n",
        "# this operation is wrong, how can we fix it?\n",
        "npimg = np.sum(npimg/3, axis=-1)\n",
        "print(npimg.shape)\n",
        "npimg = Image.fromarray(npimg.astype('uint8'))\n",
        "display(npimg)"
      ],
      "execution_count": null,
      "outputs": [
        {
          "output_type": "stream",
          "text": [
            "(203, 601)\n"
          ],
          "name": "stdout"
        },
        {
          "output_type": "display_data",
          "data": {
            "image/png": "[encoded data removed]",
            "text/plain": [
              "<PIL.Image.Image image mode=L size=601x203 at 0x7FA987BADB38>"
            ]
          },
          "metadata": {
            "tags": []
          }
        }
      ]
    },
    {
      "cell_type": "code",
      "metadata": {
        "colab_type": "code",
        "id": "8RFLwM626AcC",
        "colab": {
          "base_uri": "https://localhost:8080/",
          "height": 237
        },
        "outputId": "da635d1d-f76d-4112-9088-50912688b733"
      },
      "source": [
        "# Correct implementation\n",
        "npimg = np.array(img_jpg)\n",
        "# this operation is wrong, how can we fix it?\n",
        "npimg = np.sum(npimg, axis=-1)/3\n",
        "print(npimg.shape)\n",
        "npimg = Image.fromarray(npimg.astype('uint8'))\n",
        "display(npimg)"
      ],
      "execution_count": null,
      "outputs": [
        {
          "output_type": "stream",
          "text": [
            "(203, 601)\n"
          ],
          "name": "stdout"
        },
        {
          "output_type": "display_data",
          "data": {
            "image/png": "[encoded data removed]",
            "text/plain": [
              "<PIL.Image.Image image mode=L size=601x203 at 0x7FA987BAD9B0>"
            ]
          },
          "metadata": {
            "tags": []
          }
        }
      ]
    },
    {
      "cell_type": "markdown",
      "metadata": {
        "colab_type": "text",
        "id": "JMiiFjLzve1_"
      },
      "source": [
        "# Quiz Question 20\n",
        "Which is the below is correct way of average the channels to get grayscale image?\n",
        "1. npimg = np.sum(npimg/3, axis=-1)\n",
        "2. npimg = np.sum(npimg, axis=-1)/3"
      ]
    },
    {
      "cell_type": "markdown",
      "metadata": {
        "colab_type": "text",
        "id": "pb_2AXp_vAke"
      },
      "source": [
        "# Quiz Question 20 Answer : npimg = \n",
        "npimg = np.sum(npimg/3, axis=-1)\n",
        "\n",
        "npimg = np.sum(npimg, axis=-1)/3\n",
        "\n",
        "Both options are correct"
      ]
    },
    {
      "cell_type": "code",
      "metadata": {
        "id": "UaTXllzMewDE",
        "colab_type": "code",
        "colab": {}
      },
      "source": [
        ""
      ],
      "execution_count": null,
      "outputs": []
    }
  ]
}